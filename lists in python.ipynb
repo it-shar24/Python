{
 "cells": [
  {
   "cell_type": "code",
   "execution_count": 1,
   "id": "b73ba420-2357-4fcc-adab-b25aa325b0b2",
   "metadata": {},
   "outputs": [
    {
     "name": "stdout",
     "output_type": "stream",
     "text": [
      "[94, 76, 63]\n"
     ]
    }
   ],
   "source": [
    "#LIST: a built-in datatype that stores value\n",
    "#Can store elements of different datatyppes-int,float,string\n",
    "\n",
    "#strings are immutable(cannot be changed) - list is mutuable(can be changed)\n",
    "# eg : str = \"hello\"\n",
    "#  str[0] = 'y' is not possible in string but is possible in list\n",
    "\n",
    "#eg : list = [ 1,2,3,4]\n",
    "# list[0] = 3 is possible\n",
    "\n",
    "#LIST SLICING\n",
    "#like sublist , ending index is not included\n",
    "#list_name [ start index : end index ]\n",
    "marks = [85,94,76,63,48]\n",
    "print(marks[1:4])"
   ]
  },
  {
   "cell_type": "code",
   "execution_count": 3,
   "id": "52995ae8-0668-4371-888a-c7bc27280970",
   "metadata": {},
   "outputs": [
    {
     "name": "stdout",
     "output_type": "stream",
     "text": [
      "[94, 76, 63, 48]\n"
     ]
    }
   ],
   "source": [
    "marks = [85,94,76,63,48]\n",
    "print(marks[1:])"
   ]
  },
  {
   "cell_type": "code",
   "execution_count": 7,
   "id": "3ac1c869-310d-43de-bee1-53a8e64607dc",
   "metadata": {},
   "outputs": [
    {
     "name": "stdout",
     "output_type": "stream",
     "text": [
      "[85, 94, 76, 63, 48]\n"
     ]
    }
   ],
   "source": [
    "marks = [85,94,76,63,48]\n",
    "print(marks[0:])"
   ]
  },
  {
   "cell_type": "code",
   "execution_count": 9,
   "id": "849d41d1-fc0c-4927-9627-05a536adaf5b",
   "metadata": {},
   "outputs": [
    {
     "name": "stdout",
     "output_type": "stream",
     "text": [
      "[76, 63]\n"
     ]
    }
   ],
   "source": [
    "#NEGAVTIVE INDEX IN LIST\n",
    "#last element 0 , second last -1 .... so on\n",
    "marks = [85,94,76,63,48]\n",
    "print(marks[-3:-1])"
   ]
  },
  {
   "cell_type": "code",
   "execution_count": 11,
   "id": "dd5d1c29-a686-4c09-a1a5-6c9cd3d029e7",
   "metadata": {},
   "outputs": [
    {
     "name": "stdout",
     "output_type": "stream",
     "text": [
      "[2, 1, 3, 4]\n"
     ]
    }
   ],
   "source": [
    "#LIST METHODS\n",
    "\n",
    "#LIST APPEND       list.append()\n",
    "#will add one element in the end\n",
    "list = [2,1,3]\n",
    "list.append(4)\n",
    "print(list)"
   ]
  },
  {
   "cell_type": "code",
   "execution_count": 17,
   "id": "0edbda90-b34e-4203-8689-3754608c831d",
   "metadata": {},
   "outputs": [
    {
     "name": "stdout",
     "output_type": "stream",
     "text": [
      "[1, 2, 3, 4]\n"
     ]
    }
   ],
   "source": [
    "#LIST SORT       list.sort()\n",
    "#sorts in ascending order\n",
    "list = [2, 1, 3, 4]\n",
    "list.sort()\n",
    "print(list)"
   ]
  },
  {
   "cell_type": "code",
   "execution_count": 19,
   "id": "718914dc-3da5-48e4-9fe1-da14765113e8",
   "metadata": {},
   "outputs": [
    {
     "name": "stdout",
     "output_type": "stream",
     "text": [
      "[4, 3, 2, 1]\n"
     ]
    }
   ],
   "source": [
    "#LIST SORT - from descending to ascending\n",
    "#reverse = True\n",
    "list = [2, 1, 3, 4]\n",
    "list.sort(reverse = True)\n",
    "print(list)"
   ]
  },
  {
   "cell_type": "code",
   "execution_count": 23,
   "id": "eeb32bf7-0bda-4c2b-9627-fdf0caad1e2b",
   "metadata": {},
   "outputs": [
    {
     "name": "stdout",
     "output_type": "stream",
     "text": [
      "[4, 3, 1, 2]\n"
     ]
    }
   ],
   "source": [
    "#LIST REVERSE   list.reverse()\n",
    "#reverses the list\n",
    "list = [2, 1, 3, 4]\n",
    "list.reverse()\n",
    "print(list)"
   ]
  },
  {
   "cell_type": "code",
   "execution_count": 25,
   "id": "714dd1d3-c16c-4c9f-a7e1-ebd052e05e67",
   "metadata": {},
   "outputs": [
    {
     "name": "stdout",
     "output_type": "stream",
     "text": [
      "[2, 5, 1, 3, 4]\n"
     ]
    }
   ],
   "source": [
    "#LIST INSERT        list.insert(index,element)\n",
    "#insert element at a particular index\n",
    "list = [2, 1, 3, 4]\n",
    "list.insert(1,5)\n",
    "print(list)"
   ]
  },
  {
   "cell_type": "code",
   "execution_count": 27,
   "id": "e01962a1-d377-49a7-a910-2407b32443b3",
   "metadata": {},
   "outputs": [
    {
     "name": "stdout",
     "output_type": "stream",
     "text": [
      "['banana', 'litchi', 'apple', 'custard']\n"
     ]
    }
   ],
   "source": [
    "list = [ 'banana', 'litchi' , 'apple' ] \n",
    "list.append('custard')\n",
    "print(list)"
   ]
  },
  {
   "cell_type": "code",
   "execution_count": 29,
   "id": "c2aa54fc-9869-4f5e-97ed-7fab0e40c701",
   "metadata": {},
   "outputs": [
    {
     "name": "stdout",
     "output_type": "stream",
     "text": [
      "['apple', 'banana', 'custard', 'litchi']\n"
     ]
    }
   ],
   "source": [
    "list = ['banana', 'litchi', 'apple', 'custard']\n",
    "list.sort()\n",
    "print(list)"
   ]
  },
  {
   "cell_type": "code",
   "execution_count": 31,
   "id": "2e3731a1-ee50-4ee4-b43c-3d3a0a7f8732",
   "metadata": {},
   "outputs": [
    {
     "name": "stdout",
     "output_type": "stream",
     "text": [
      "['litchi', 'custard', 'banana', 'apple']\n"
     ]
    }
   ],
   "source": [
    "list = ['banana', 'litchi', 'apple', 'custard']\n",
    "list.sort(reverse=True)\n",
    "print(list)"
   ]
  },
  {
   "cell_type": "code",
   "execution_count": 33,
   "id": "f043d496-0e19-432e-8dd0-36a0fae3c6ec",
   "metadata": {},
   "outputs": [
    {
     "name": "stdout",
     "output_type": "stream",
     "text": [
      "['custard', 'apple', 'litchi', 'banana']\n"
     ]
    }
   ],
   "source": [
    "list = ['banana', 'litchi', 'apple', 'custard']\n",
    "list.reverse()\n",
    "print(list)"
   ]
  },
  {
   "cell_type": "code",
   "execution_count": 35,
   "id": "2057276b-decb-42d4-afa4-86baefa930e2",
   "metadata": {},
   "outputs": [
    {
     "name": "stdout",
     "output_type": "stream",
     "text": [
      "['banana', 'litchi', 'cherry', 'apple', 'custard']\n"
     ]
    }
   ],
   "source": [
    "list = ['banana', 'litchi', 'apple', 'custard']\n",
    "list.insert(2,'cherry')\n",
    "print(list)"
   ]
  },
  {
   "cell_type": "code",
   "execution_count": 37,
   "id": "39dcb076-900c-4213-baab-963d33ca8615",
   "metadata": {},
   "outputs": [
    {
     "name": "stdout",
     "output_type": "stream",
     "text": [
      "[2, 3, 1]\n"
     ]
    }
   ],
   "source": [
    "#LIST REMOVE\n",
    "#removes first occurence of the element\n",
    "list = [2,1,3,1]\n",
    "list.remove(1)\n",
    "print(list)"
   ]
  },
  {
   "cell_type": "code",
   "execution_count": 39,
   "id": "716f5ee8-923a-4298-b751-da868e0e701a",
   "metadata": {},
   "outputs": [
    {
     "name": "stdout",
     "output_type": "stream",
     "text": [
      "[2, 1, 1]\n"
     ]
    }
   ],
   "source": [
    "#LIST POP\n",
    "#removes element at particular index\n",
    "list = [2,1,3,1]\n",
    "list.pop(2)\n",
    "print(list)"
   ]
  },
  {
   "cell_type": "code",
   "execution_count": null,
   "id": "6f65c4d8-9ebe-44b5-b375-fe471f643bd4",
   "metadata": {},
   "outputs": [],
   "source": []
  }
 ],
 "metadata": {
  "kernelspec": {
   "display_name": "Python 3 (ipykernel)",
   "language": "python",
   "name": "python3"
  },
  "language_info": {
   "codemirror_mode": {
    "name": "ipython",
    "version": 3
   },
   "file_extension": ".py",
   "mimetype": "text/x-python",
   "name": "python",
   "nbconvert_exporter": "python",
   "pygments_lexer": "ipython3",
   "version": "3.12.4"
  }
 },
 "nbformat": 4,
 "nbformat_minor": 5
}
