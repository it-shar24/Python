{
 "cells": [
  {
   "cell_type": "code",
   "execution_count": 2,
   "id": "1102ebd1",
   "metadata": {},
   "outputs": [
    {
     "name": "stdout",
     "output_type": "stream",
     "text": [
      "Defaulting to user installation because normal site-packages is not writeable\n",
      "Collecting countdown-timer\n",
      "  Downloading countdown-timer-0.0.3.tar.gz (1.4 kB)\n",
      "Building wheels for collected packages: countdown-timer\n",
      "  Building wheel for countdown-timer (setup.py): started\n",
      "  Building wheel for countdown-timer (setup.py): finished with status 'done'\n",
      "  Created wheel for countdown-timer: filename=countdown_timer-0.0.3-py3-none-any.whl size=1932 sha256=2def61e796dd2c7d6cd6e9a46c5dc0c982492d5537aa146b94f9c413cf6c7435\n",
      "  Stored in directory: c:\\users\\admin\\appdata\\local\\pip\\cache\\wheels\\12\\11\\fd\\1fd02c7ea7b05db42a4af2cde7a023a992130eb66759df15ab\n",
      "Successfully built countdown-timer\n",
      "Installing collected packages: countdown-timer\n",
      "Successfully installed countdown-timer-0.0.3\n",
      "Note: you may need to restart the kernel to use updated packages.\n"
     ]
    }
   ],
   "source": [
    "pip install countdown-timer"
   ]
  },
  {
   "cell_type": "code",
   "execution_count": 4,
   "id": "2434d451",
   "metadata": {},
   "outputs": [
    {
     "name": "stdout",
     "output_type": "stream",
     "text": [
      "enter minutes:2\n",
      "enter seconds:2\n",
      "00:01\r"
     ]
    }
   ],
   "source": [
    "from countdown import countdown\n",
    "minutes = int(input(\"enter minutes:\"))\n",
    "seconds = int(input(\"enter seconds:\"))\n",
    "#create a countdown of 1 minute and 10 seconds\n",
    "countdown(mins=minutes,secs=seconds)"
   ]
  },
  {
   "cell_type": "code",
   "execution_count": null,
   "id": "5ef0d2c4",
   "metadata": {},
   "outputs": [],
   "source": []
  }
 ],
 "metadata": {
  "kernelspec": {
   "display_name": "Python 3 (ipykernel)",
   "language": "python",
   "name": "python3"
  },
  "language_info": {
   "codemirror_mode": {
    "name": "ipython",
    "version": 3
   },
   "file_extension": ".py",
   "mimetype": "text/x-python",
   "name": "python",
   "nbconvert_exporter": "python",
   "pygments_lexer": "ipython3",
   "version": "3.9.12"
  }
 },
 "nbformat": 4,
 "nbformat_minor": 5
}
