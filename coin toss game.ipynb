{
 "cells": [
  {
   "cell_type": "code",
   "execution_count": 15,
   "id": "d79a21f6-8bd8-4563-b9e6-2adef5c68499",
   "metadata": {},
   "outputs": [
    {
     "name": "stdin",
     "output_type": "stream",
     "text": [
      "Please enter your name  shar\n"
     ]
    },
    {
     "name": "stdout",
     "output_type": "stream",
     "text": [
      "Hello shar welcome to coin toss game!\n"
     ]
    },
    {
     "name": "stdin",
     "output_type": "stream",
     "text": [
      "Please choose (Heads or Tails): abc\n"
     ]
    },
    {
     "name": "stdout",
     "output_type": "stream",
     "text": [
      "User has chosen Abc\n",
      "Coin Result is  Heads\n",
      "you lose\n"
     ]
    }
   ],
   "source": [
    "#Coin toss game\n",
    "#random library\n",
    "#welcome user\n",
    "user_name = input(\"Please enter your name \")\n",
    "print(\"Hello\",user_name,\"welcome to coin toss game!\")\n",
    "#ask user heads or tails\n",
    "user_choice = input(\"Please choose (Heads or Tails):\")\n",
    "print(\"User has chosen\",user_choice.title())\n",
    "#coin toss\n",
    "import random\n",
    "if random.choice('HT')=='H':\n",
    "    coin_toss=\"Heads\"\n",
    "else:\n",
    "    coin_toss=\"Tails\"\n",
    "print(\"Coin Result is \",coin_toss)\n",
    "\n",
    "if coin_toss.lower()==user_choice.lower():\n",
    "    print(\"You won!\")\n",
    "else:\n",
    "    print(\"you lose\")"
   ]
  },
  {
   "cell_type": "code",
   "execution_count": null,
   "id": "6ea53e32-24ce-462f-9f1b-a2f379874c2d",
   "metadata": {},
   "outputs": [],
   "source": []
  }
 ],
 "metadata": {
  "kernelspec": {
   "display_name": "Python 3 (ipykernel)",
   "language": "python",
   "name": "python3"
  },
  "language_info": {
   "codemirror_mode": {
    "name": "ipython",
    "version": 3
   },
   "file_extension": ".py",
   "mimetype": "text/x-python",
   "name": "python",
   "nbconvert_exporter": "python",
   "pygments_lexer": "ipython3",
   "version": "3.12.4"
  }
 },
 "nbformat": 4,
 "nbformat_minor": 5
}
