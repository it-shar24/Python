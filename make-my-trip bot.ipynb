{
 "cells": [
  {
   "cell_type": "code",
   "execution_count": 17,
   "id": "3949460d-5fd4-42cb-af63-14414392e99b",
   "metadata": {},
   "outputs": [
    {
     "name": "stdout",
     "output_type": "stream",
     "text": [
      "Hello! Welcome to MMM\n"
     ]
    },
    {
     "name": "stdin",
     "output_type": "stream",
     "text": [
      "Please enter your name shar\n"
     ]
    },
    {
     "name": "stdout",
     "output_type": "stream",
     "text": [
      "Hello  shar ,hope you find this helpful!\n"
     ]
    },
    {
     "name": "stdin",
     "output_type": "stream",
     "text": [
      "Please enter your preferable location: Manali,Leh,Banglore,Coorg,Kerala,Mahabaleshwar Coorg\n"
     ]
    },
    {
     "name": "stdout",
     "output_type": "stream",
     "text": [
      "Your approximate budget is 25,000-40,000\n"
     ]
    }
   ],
   "source": [
    "#make-my-trip bot\n",
    "#tells you approximate budget for your location\n",
    "print(\"Hello! Welcome to MMM\")\n",
    "\n",
    "#ask for user name\n",
    "user_name = input(\"Please enter your name\")\n",
    "\n",
    "#greet user\n",
    "print(\"Hello \" , user_name,\",hope you find this helpful!\")\n",
    "\n",
    "#ask for preferable location : manali,leh,banglore,coorg,kerala,mahabaleshwar\n",
    "user_location = input(\"Please enter your preferable location: Manali,Leh,Banglore,Coorg,Kerala,Mahabaleshwar\")\n",
    "\n",
    "#if budget > 50,000 > manali,leh\n",
    "if user_location == \"Manali\" or user_location == \"Leh\":\n",
    "    print(\"Your approximate budget is 50,000\")\n",
    "\n",
    "#if budget > 40,000 - 50,000 > banglore\n",
    "elif user_location == \"Banglore\":\n",
    "    print(\"Your approximate budget is 40,000-50,000\") \n",
    "\n",
    "#if budget > 25,000 - 40,000 > kerala,coorg\n",
    "elif user_location == \"Kerala\" or user_location == \"Coorg\":\n",
    "    print(\"Your approximate budget is 25,000-40,000\")\n",
    "\n",
    "#if budget > 5,000 - 25,000 > mahableshwar\n",
    "elif user_location ==  \"Mahabaleshwar\":\n",
    "    print(\"Your approximate budget is 5,000-25,000\")\n",
    "\n",
    "#if budget<5,000 > sorry,no location available\n",
    "else:\n",
    "    print(\"Sorry,invalid location\")\n"
   ]
  },
  {
   "cell_type": "code",
   "execution_count": null,
   "id": "36e891ae-3970-4cfa-a661-dae24404d3ac",
   "metadata": {},
   "outputs": [],
   "source": []
  }
 ],
 "metadata": {
  "kernelspec": {
   "display_name": "Python 3 (ipykernel)",
   "language": "python",
   "name": "python3"
  },
  "language_info": {
   "codemirror_mode": {
    "name": "ipython",
    "version": 3
   },
   "file_extension": ".py",
   "mimetype": "text/x-python",
   "name": "python",
   "nbconvert_exporter": "python",
   "pygments_lexer": "ipython3",
   "version": "3.12.4"
  }
 },
 "nbformat": 4,
 "nbformat_minor": 5
}
