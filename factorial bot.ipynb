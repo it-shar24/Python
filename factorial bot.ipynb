{
 "cells": [
  {
   "cell_type": "code",
   "execution_count": 3,
   "id": "538dc602",
   "metadata": {},
   "outputs": [
    {
     "name": "stdout",
     "output_type": "stream",
     "text": [
      "Hello Student\n",
      "Please Enter the number:4\n",
      "You chose 4\n",
      "Factorial of 4 is: 24\n"
     ]
    }
   ],
   "source": [
    "#Creating Factorial\n",
    "#Welcome User\n",
    "print('Hello Student')\n",
    "#Ask user a number\n",
    "user_pref=int(input('Please Enter the number:'))\n",
    "print('You chose',user_pref)\n",
    "factorial = 1\n",
    "#Display Multiplication table\n",
    "for i in range(1,user_pref+1):\n",
    "    factorial= i*factorial\n",
    "print('Factorial of',user_pref,'is:',factorial)"
   ]
  },
  {
   "cell_type": "code",
   "execution_count": null,
   "id": "fd406a8c",
   "metadata": {},
   "outputs": [],
   "source": []
  }
 ],
 "metadata": {
  "kernelspec": {
   "display_name": "Python 3 (ipykernel)",
   "language": "python",
   "name": "python3"
  },
  "language_info": {
   "codemirror_mode": {
    "name": "ipython",
    "version": 3
   },
   "file_extension": ".py",
   "mimetype": "text/x-python",
   "name": "python",
   "nbconvert_exporter": "python",
   "pygments_lexer": "ipython3",
   "version": "3.9.12"
  }
 },
 "nbformat": 4,
 "nbformat_minor": 5
}
