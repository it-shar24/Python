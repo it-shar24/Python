{
 "cells": [
  {
   "cell_type": "code",
   "execution_count": null,
   "id": "9ec4c326",
   "metadata": {},
   "outputs": [],
   "source": [
    "#random range can also be used"
   ]
  },
  {
   "cell_type": "code",
   "execution_count": 15,
   "id": "46785c57",
   "metadata": {},
   "outputs": [
    {
     "name": "stdout",
     "output_type": "stream",
     "text": [
      "Welcome user! Please enter your name\n",
      "Enter your name: s\n",
      "Please enter a number of your choice (1-6): 6\n",
      "You have selected the number 6\n",
      "You won!\n"
     ]
    }
   ],
   "source": [
    "import random\n",
    "\n",
    "print(\"Welcome user! Please enter your name\")\n",
    "user_name = input(\"Enter your name: \")\n",
    "user_choice = int(input(\"Please enter a number of your choice (1-6): \"))\n",
    "print(\"You have selected the number\", user_choice)\n",
    "\n",
    "# Make sure to use random.randint correctly\n",
    "dice_roll = random.randint(1, 6)\n",
    "\n",
    "if user_choice == dice_roll:\n",
    "    print(\"You won!\")\n",
    "else:\n",
    "    print(\"You lose. The dice rolled:\", dice_roll)\n",
    "    "
   ]
  }
 ],
 "metadata": {
  "kernelspec": {
   "display_name": "Python 3 (ipykernel)",
   "language": "python",
   "name": "python3"
  },
  "language_info": {
   "codemirror_mode": {
    "name": "ipython",
    "version": 3
   },
   "file_extension": ".py",
   "mimetype": "text/x-python",
   "name": "python",
   "nbconvert_exporter": "python",
   "pygments_lexer": "ipython3",
   "version": "3.9.12"
  }
 },
 "nbformat": 4,
 "nbformat_minor": 5
}
